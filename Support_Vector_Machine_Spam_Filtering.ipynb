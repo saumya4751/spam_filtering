{
  "cells": [
    {
      "cell_type": "markdown",
      "metadata": {},
      "source": [
        "### Manual implementation of Support Vector Machine for Spam Filtering"
      ]
    },
    {
      "cell_type": "code",
      "execution_count": 149,
      "metadata": {
        "colab": {
          "base_uri": "https://localhost:8080/",
          "height": 73
        },
        "id": "tgvpvRPXWzAt",
        "outputId": "b416ef79-27f8-454a-d1dc-ef51624d1180"
      },
      "outputs": [
        {
          "data": {
            "text/html": [
              "\n",
              "     <input type=\"file\" id=\"files-7982013a-a779-4223-9a3b-be8eaa7dedd1\" name=\"files[]\" multiple disabled\n",
              "        style=\"border:none\" />\n",
              "     <output id=\"result-7982013a-a779-4223-9a3b-be8eaa7dedd1\">\n",
              "      Upload widget is only available when the cell has been executed in the\n",
              "      current browser session. Please rerun this cell to enable.\n",
              "      </output>\n",
              "      <script>// Copyright 2017 Google LLC\n",
              "//\n",
              "// Licensed under the Apache License, Version 2.0 (the \"License\");\n",
              "// you may not use this file except in compliance with the License.\n",
              "// You may obtain a copy of the License at\n",
              "//\n",
              "//      http://www.apache.org/licenses/LICENSE-2.0\n",
              "//\n",
              "// Unless required by applicable law or agreed to in writing, software\n",
              "// distributed under the License is distributed on an \"AS IS\" BASIS,\n",
              "// WITHOUT WARRANTIES OR CONDITIONS OF ANY KIND, either express or implied.\n",
              "// See the License for the specific language governing permissions and\n",
              "// limitations under the License.\n",
              "\n",
              "/**\n",
              " * @fileoverview Helpers for google.colab Python module.\n",
              " */\n",
              "(function(scope) {\n",
              "function span(text, styleAttributes = {}) {\n",
              "  const element = document.createElement('span');\n",
              "  element.textContent = text;\n",
              "  for (const key of Object.keys(styleAttributes)) {\n",
              "    element.style[key] = styleAttributes[key];\n",
              "  }\n",
              "  return element;\n",
              "}\n",
              "\n",
              "// Max number of bytes which will be uploaded at a time.\n",
              "const MAX_PAYLOAD_SIZE = 100 * 1024;\n",
              "\n",
              "function _uploadFiles(inputId, outputId) {\n",
              "  const steps = uploadFilesStep(inputId, outputId);\n",
              "  const outputElement = document.getElementById(outputId);\n",
              "  // Cache steps on the outputElement to make it available for the next call\n",
              "  // to uploadFilesContinue from Python.\n",
              "  outputElement.steps = steps;\n",
              "\n",
              "  return _uploadFilesContinue(outputId);\n",
              "}\n",
              "\n",
              "// This is roughly an async generator (not supported in the browser yet),\n",
              "// where there are multiple asynchronous steps and the Python side is going\n",
              "// to poll for completion of each step.\n",
              "// This uses a Promise to block the python side on completion of each step,\n",
              "// then passes the result of the previous step as the input to the next step.\n",
              "function _uploadFilesContinue(outputId) {\n",
              "  const outputElement = document.getElementById(outputId);\n",
              "  const steps = outputElement.steps;\n",
              "\n",
              "  const next = steps.next(outputElement.lastPromiseValue);\n",
              "  return Promise.resolve(next.value.promise).then((value) => {\n",
              "    // Cache the last promise value to make it available to the next\n",
              "    // step of the generator.\n",
              "    outputElement.lastPromiseValue = value;\n",
              "    return next.value.response;\n",
              "  });\n",
              "}\n",
              "\n",
              "/**\n",
              " * Generator function which is called between each async step of the upload\n",
              " * process.\n",
              " * @param {string} inputId Element ID of the input file picker element.\n",
              " * @param {string} outputId Element ID of the output display.\n",
              " * @return {!Iterable<!Object>} Iterable of next steps.\n",
              " */\n",
              "function* uploadFilesStep(inputId, outputId) {\n",
              "  const inputElement = document.getElementById(inputId);\n",
              "  inputElement.disabled = false;\n",
              "\n",
              "  const outputElement = document.getElementById(outputId);\n",
              "  outputElement.innerHTML = '';\n",
              "\n",
              "  const pickedPromise = new Promise((resolve) => {\n",
              "    inputElement.addEventListener('change', (e) => {\n",
              "      resolve(e.target.files);\n",
              "    });\n",
              "  });\n",
              "\n",
              "  const cancel = document.createElement('button');\n",
              "  inputElement.parentElement.appendChild(cancel);\n",
              "  cancel.textContent = 'Cancel upload';\n",
              "  const cancelPromise = new Promise((resolve) => {\n",
              "    cancel.onclick = () => {\n",
              "      resolve(null);\n",
              "    };\n",
              "  });\n",
              "\n",
              "  // Wait for the user to pick the files.\n",
              "  const files = yield {\n",
              "    promise: Promise.race([pickedPromise, cancelPromise]),\n",
              "    response: {\n",
              "      action: 'starting',\n",
              "    }\n",
              "  };\n",
              "\n",
              "  cancel.remove();\n",
              "\n",
              "  // Disable the input element since further picks are not allowed.\n",
              "  inputElement.disabled = true;\n",
              "\n",
              "  if (!files) {\n",
              "    return {\n",
              "      response: {\n",
              "        action: 'complete',\n",
              "      }\n",
              "    };\n",
              "  }\n",
              "\n",
              "  for (const file of files) {\n",
              "    const li = document.createElement('li');\n",
              "    li.append(span(file.name, {fontWeight: 'bold'}));\n",
              "    li.append(span(\n",
              "        `(${file.type || 'n/a'}) - ${file.size} bytes, ` +\n",
              "        `last modified: ${\n",
              "            file.lastModifiedDate ? file.lastModifiedDate.toLocaleDateString() :\n",
              "                                    'n/a'} - `));\n",
              "    const percent = span('0% done');\n",
              "    li.appendChild(percent);\n",
              "\n",
              "    outputElement.appendChild(li);\n",
              "\n",
              "    const fileDataPromise = new Promise((resolve) => {\n",
              "      const reader = new FileReader();\n",
              "      reader.onload = (e) => {\n",
              "        resolve(e.target.result);\n",
              "      };\n",
              "      reader.readAsArrayBuffer(file);\n",
              "    });\n",
              "    // Wait for the data to be ready.\n",
              "    let fileData = yield {\n",
              "      promise: fileDataPromise,\n",
              "      response: {\n",
              "        action: 'continue',\n",
              "      }\n",
              "    };\n",
              "\n",
              "    // Use a chunked sending to avoid message size limits. See b/62115660.\n",
              "    let position = 0;\n",
              "    do {\n",
              "      const length = Math.min(fileData.byteLength - position, MAX_PAYLOAD_SIZE);\n",
              "      const chunk = new Uint8Array(fileData, position, length);\n",
              "      position += length;\n",
              "\n",
              "      const base64 = btoa(String.fromCharCode.apply(null, chunk));\n",
              "      yield {\n",
              "        response: {\n",
              "          action: 'append',\n",
              "          file: file.name,\n",
              "          data: base64,\n",
              "        },\n",
              "      };\n",
              "\n",
              "      let percentDone = fileData.byteLength === 0 ?\n",
              "          100 :\n",
              "          Math.round((position / fileData.byteLength) * 100);\n",
              "      percent.textContent = `${percentDone}% done`;\n",
              "\n",
              "    } while (position < fileData.byteLength);\n",
              "  }\n",
              "\n",
              "  // All done.\n",
              "  yield {\n",
              "    response: {\n",
              "      action: 'complete',\n",
              "    }\n",
              "  };\n",
              "}\n",
              "\n",
              "scope.google = scope.google || {};\n",
              "scope.google.colab = scope.google.colab || {};\n",
              "scope.google.colab._files = {\n",
              "  _uploadFiles,\n",
              "  _uploadFilesContinue,\n",
              "};\n",
              "})(self);\n",
              "</script> "
            ],
            "text/plain": [
              "<IPython.core.display.HTML object>"
            ]
          },
          "metadata": {},
          "output_type": "display_data"
        },
        {
          "name": "stdout",
          "output_type": "stream",
          "text": [
            "Saving spambase.data to spambase (9).data\n"
          ]
        }
      ],
      "source": [
        "# importing libraries\n",
        "import numpy as np\n",
        "import tensorflow as tf\n",
        "import matplotlib.pyplot as plt \n",
        "from sklearn import svm\n",
        "from sklearn.model_selection import train_test_split\n",
        "from sklearn.preprocessing import LabelEncoder, StandardScaler\n",
        "\n",
        "# Uploading dataset file\n",
        "from google.colab import files\n",
        "files.upload()\n",
        "\n",
        "# Storing the data from file to a list (Vector)\n",
        "dataset = np.loadtxt('spambase.data', dtype = 'float32', delimiter = ',')\n",
        "M = len(dataset[0])-1\n",
        "\n",
        "# Getting first 57 elements of a list as features\n",
        "features = dataset[:, :M]\n",
        "# Getting last element of a list as output of respective email\n",
        "target = dataset[:, -1]\n",
        "\n",
        "labels = LabelEncoder().fit_transform(target)\n",
        "feature_std = StandardScaler().fit_transform(features)\n",
        "\n",
        "# Splitting data into training and testing data set. ratio is of 70/30\n",
        "x_train, x_test, y_train, y_test = train_test_split(feature_std, labels, test_size=0.2, random_state=0)\n",
        "x_train_size, feature_size = x_train.shape\n",
        "x_test_size, target_size = x_test.shape"
      ]
    },
    {
      "cell_type": "code",
      "execution_count": 152,
      "metadata": {
        "id": "0ZuUBjllksxy"
      },
      "outputs": [],
      "source": [
        "# Below is the manual implementation of Linear SVM model"
      ]
    },
    {
      "cell_type": "code",
      "execution_count": 161,
      "metadata": {
        "colab": {
          "base_uri": "https://localhost:8080/",
          "height": 1000
        },
        "id": "VL8d5uCtW3oH",
        "outputId": "54687d4e-6de0-49c0-c01c-aed232b6fd34"
      },
      "outputs": [
        {
          "name": "stdout",
          "output_type": "stream",
          "text": [
            "=> epoch  0: loss= 7.28\n",
            "=> epoch 100: loss= 4.99\n",
            "=> epoch 200: loss= 3.59\n",
            "=> epoch 300: loss= 2.66\n",
            "=> epoch 400: loss= 2.08\n",
            "=> epoch 500: loss= 1.50\n",
            "=> epoch 600: loss= 1.12\n",
            "=> epoch 700: loss= 0.86\n",
            "=> epoch 800: loss= 0.78\n",
            "=> epoch 900: loss= 0.73\n",
            "=> epoch 1000: loss= 0.80\n",
            "=> epoch 1100: loss= 0.67\n",
            "=> epoch 1200: loss= 0.65\n",
            "=> epoch 1300: loss= 0.56\n",
            "=> epoch 1400: loss= 0.56\n",
            "=> epoch 1500: loss= 0.62\n",
            "=> epoch 1600: loss= 0.57\n",
            "=> epoch 1700: loss= 0.65\n",
            "=> epoch 1800: loss= 0.63\n",
            "=> epoch 1900: loss= 0.56\n",
            "=> epoch 2000: loss= 0.51\n",
            "=> epoch 2100: loss= 0.61\n",
            "=> epoch 2200: loss= 0.56\n",
            "=> epoch 2300: loss= 0.65\n",
            "=> epoch 2400: loss= 0.61\n",
            "=> epoch 2500: loss= 0.54\n",
            "=> epoch 2600: loss= 0.58\n",
            "=> epoch 2700: loss= 0.61\n",
            "=> epoch 2800: loss= 0.58\n",
            "=> epoch 2900: loss= 0.70\n",
            "=> epoch 3000: loss= 0.60\n",
            "=> epoch 3100: loss= 0.55\n",
            "=> epoch 3200: loss= 0.69\n",
            "=> epoch 3300: loss= 0.60\n",
            "=> epoch 3400: loss= 0.57\n",
            "=> epoch 3500: loss= 0.61\n",
            "=> epoch 3600: loss= 0.59\n",
            "=> epoch 3700: loss= 0.56\n",
            "=> epoch 3800: loss= 0.52\n",
            "=> epoch 3900: loss= 0.61\n",
            "=> epoch 4000: loss= 0.67\n",
            "=> epoch 4100: loss= 0.61\n",
            "=> epoch 4200: loss= 0.63\n",
            "=> epoch 4300: loss= 0.58\n",
            "=> epoch 4400: loss= 0.54\n",
            "=> epoch 4500: loss= 0.61\n",
            "=> epoch 4600: loss= 0.72\n",
            "=> epoch 4700: loss= 0.64\n",
            "=> epoch 4800: loss= 0.60\n",
            "=> epoch 4900: loss= 0.60\n",
            "=> epoch 5000: loss= 0.56\n",
            "=> epoch 5100: loss= 0.66\n",
            "=> epoch 5200: loss= 0.62\n",
            "=> epoch 5300: loss= 0.61\n",
            "=> epoch 5400: loss= 0.67\n",
            "=> epoch 5500: loss= 0.56\n",
            "=> epoch 5600: loss= 0.61\n",
            "=> epoch 5700: loss= 0.64\n",
            "=> epoch 5800: loss= 0.63\n",
            "=> epoch 5900: loss= 0.62\n",
            "\n",
            "Accuracy: 41.59%\n",
            "\n"
          ]
        },
        {
          "data": {
            "image/png": "[encoded data removed]",
            "text/plain": [
              "<Figure size 720x360 with 2 Axes>"
            ]
          },
          "metadata": {
            "needs_background": "light"
          },
          "output_type": "display_data"
        }
      ],
      "source": [
        "# Implementing Linear SVM model\n",
        "class SVMModel(object):\n",
        "  def __init__(self, num_features):\n",
        "    self.W = tf.Variable(tf.random.normal(shape=[num_features, 1]))\n",
        "    self.b = tf.Variable(tf.random.normal(shape=[1, 1]))\n",
        "  \n",
        "  def __call__(self, inputs):\n",
        "    return tf.add(tf.matmul(inputs, self.W), self.b)\n",
        "\n",
        "# computing the hinge loss of the model\n",
        "def compute_hinge_loss(W, y_pred, y_true):\n",
        "  l2_norm = tf.reduce_sum(tf.square(W))\n",
        "  alpha = tf.constant([0.1])\n",
        "  hinge_loss = tf.reduce_mean(tf.maximum(0., tf.subtract(1., tf.multiply(y_pred, y_true))))\n",
        "  loss = tf.add(hinge_loss, tf.multiply(alpha, l2_norm))\n",
        "  return loss\n",
        "\n",
        "# creating obejct of the class\n",
        "SVMmodel = SVMModel(feature_size)\n",
        "\n",
        "epochs = range(6000)\n",
        "batch_size = 100\n",
        "learning_rate = 0.01\n",
        "acc = 0\n",
        "loss_history, acc_history = [], []\n",
        "\n",
        "# training the model\n",
        "for epoch in epochs:\n",
        "  rand_index = np.random.choice(x_train_size, size = batch_size)\n",
        "  X = x_train[rand_index]\n",
        "  Y = np.transpose([y_train[rand_index]])\n",
        "\n",
        "  with tf.GradientTape() as tape:\n",
        "    y_pred = SVMmodel(X)\n",
        "    loss = compute_hinge_loss(SVMmodel.W, y_pred, Y)\n",
        "  \n",
        "  dw, db = tape.gradient(loss, [SVMmodel.W, SVMmodel.b])\n",
        "\n",
        "  SVMmodel.W.assign_sub(learning_rate * dw)\n",
        "  SVMmodel.b.assign_sub(learning_rate * db)\n",
        "\n",
        "  loss_history.append(loss)\n",
        "\n",
        "  if epoch % 100 == 0:\n",
        "    print(\"=> epoch %2d: loss= %.2f\" %(epoch, loss.numpy()))\n",
        "\n",
        "# checking the accuracy of the model using testing dataset\n",
        "y_pred_values = SVMmodel(x_test)\n",
        "\n",
        "for i in range(x_test_size):\n",
        "  if y_pred_values[i] >= 0.5:\n",
        "    y_predicted = 1\n",
        "  else:\n",
        "    y_predicted = 0\n",
        "\n",
        "  eq = tf.cast(tf.equal(y_predicted,y_test[i]), tf.float32)\n",
        "  acc = acc + eq.numpy()\n",
        "  acc_history.append(tf.reduce_mean(acc))\n",
        "\n",
        "print(\"\\nAccuracy: {:.2f}%\\n\".format((acc/x_test_size) * 100))\n",
        "\n",
        "# plotting the loss as the training epoch increase\n",
        "plt.figure(figsize=(10, 5))\n",
        "plt.subplot(1, 2, 1)\n",
        "plt.plot(loss_history)\n",
        "plt.xlabel('Epochs')\n",
        "plt.ylabel('Loss')\n",
        "\n",
        "# plotting the accuracy of the model using the testing dataset\n",
        "plt.subplot(1, 2, 2)\n",
        "plt.plot(acc_history)\n",
        "plt.xlabel('Epochs')\n",
        "plt.ylabel('Accuracy')\n",
        "\n",
        "plt.show()"
      ]
    },
    {
      "cell_type": "code",
      "execution_count": 156,
      "metadata": {
        "colab": {
          "base_uri": "https://localhost:8080/",
          "height": 281
        },
        "id": "P1bcXPsElUTl",
        "outputId": "1832fff0-35cc-4ce4-9d6d-1981473984f3"
      },
      "outputs": [
        {
          "data": {
            "image/png": "[encoded data removed]",
            "text/plain": [
              "<Figure size 432x288 with 1 Axes>"
            ]
          },
          "metadata": {
            "needs_background": "light"
          },
          "output_type": "display_data"
        }
      ],
      "source": [
        "# plotting how classifier marks spam emails and legitimate emails\n",
        "spam_emails = x_train[y_train == 1]\n",
        "legitimate_emails = x_train[y_train == 0]\n",
        "plt.title('Classifier Graph')\n",
        "plt.scatter(spam_emails[:, 0], spam_emails[:, 1], color=\"red\", label=\"spam\")\n",
        "plt.scatter(legitimate_emails[:, 0], legitimate_emails[:, 1], color=\"blue\", label=\"legitimate\")\n",
        "plt.legend()\n",
        "\n",
        "plt.show()"
      ]
    },
    {
      "cell_type": "code",
      "execution_count": null,
      "metadata": {
        "id": "J_OtswN9lWjg"
      },
      "outputs": [],
      "source": [
        "# Below SVM linear model is implemented using sklear library"
      ]
    },
    {
      "cell_type": "code",
      "execution_count": 151,
      "metadata": {
        "colab": {
          "base_uri": "https://localhost:8080/",
          "height": 350
        },
        "id": "PtaW5ylj1c43",
        "outputId": "1304fd15-dc71-4190-e00d-653a702ed1b9"
      },
      "outputs": [
        {
          "name": "stdout",
          "output_type": "stream",
          "text": [
            "\n",
            "Accuracy: 91.53%\n",
            "\n"
          ]
        },
        {
          "data": {
            "image/png": "[encoded data removed]",
            "text/plain": [
              "<Figure size 432x288 with 1 Axes>"
            ]
          },
          "metadata": {
            "needs_background": "light"
          },
          "output_type": "display_data"
        }
      ],
      "source": [
        "# Finding optimal C, SVM regularization parameter\n",
        "C_range = np.arange(0.1, 7.0, 0.1)\n",
        "C_score = []\n",
        "\n",
        "for c in C_range:\n",
        "  model = svm.SVC(C=c, kernel='linear', random_state = 0)\n",
        "  model.fit(x_train, y_train)\n",
        "  C_score.append(model.score(x_test, y_test))\n",
        "\n",
        "final_C = C_range[np.argmax(C_score)]\n",
        "\n",
        "# Using SVM model for training the dataset and checking the accuracy\n",
        "svc = svm.SVC(kernel='linear', C=final_C).fit(x_train, y_train)\n",
        "print(\"\\nAccuracy: {:.2f}%\\n\".format(svc.score(x_test, y_test) * 100))\n",
        "\n",
        "# plotting different values of C and their respective accuracy\n",
        "plt.title(\"Optimal C\")\n",
        "plt.plot(C_range, C_score)\n",
        "plt.xlabel('C')\n",
        "plt.ylabel('Accuracy')\n",
        "plt.show()"
      ]
    },
    {
      "cell_type": "code",
      "execution_count": null,
      "metadata": {
        "id": "4FlLi23bjjlY"
      },
      "outputs": [],
      "source": []
    }
  ],
  "metadata": {
    "colab": {
      "provenance": []
    },
    "kernelspec": {
      "display_name": "Python 3",
      "name": "python3"
    },
    "language_info": {
      "name": "python"
    }
  },
  "nbformat": 4,
  "nbformat_minor": 0
}
